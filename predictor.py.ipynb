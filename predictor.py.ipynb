{
 "cells": [
  {
   "cell_type": "code",
   "execution_count": 1,
   "id": "567b0836",
   "metadata": {},
   "outputs": [
    {
     "name": "stdout",
     "output_type": "stream",
     "text": [
      "Enter your Experience: 5\n",
      "Your expected salary is:  [73042.01180594]\n"
     ]
    }
   ],
   "source": [
    "import joblib\n",
    "experience=float(input(\"Enter your Experience: \"))\n",
    "mind=joblib.load(\"salary_predictor.pk1\")\n",
    "salary=mind.predict([[experience]])\n",
    "print(\"Your expected salary is: \",salary)"
   ]
  },
  {
   "cell_type": "code",
   "execution_count": null,
   "id": "768a59c2",
   "metadata": {},
   "outputs": [],
   "source": []
  }
 ],
 "metadata": {
  "kernelspec": {
   "display_name": "Python 3",
   "language": "python",
   "name": "python3"
  },
  "language_info": {
   "codemirror_mode": {
    "name": "ipython",
    "version": 3
   },
   "file_extension": ".py",
   "mimetype": "text/x-python",
   "name": "python",
   "nbconvert_exporter": "python",
   "pygments_lexer": "ipython3",
   "version": "3.8.8"
  }
 },
 "nbformat": 4,
 "nbformat_minor": 5
}
