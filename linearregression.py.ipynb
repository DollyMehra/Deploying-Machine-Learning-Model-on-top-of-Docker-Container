{
 "cells": [
  {
   "cell_type": "code",
   "execution_count": 3,
   "id": "a4e1b535",
   "metadata": {},
   "outputs": [
    {
     "name": "stdout",
     "output_type": "stream",
     "text": [
      "weight:  [9449.96232146]\n",
      "bias:  25792.20019866871\n"
     ]
    },
    {
     "data": {
      "text/plain": [
       "['salary_predictor.pk1']"
      ]
     },
     "execution_count": 3,
     "metadata": {},
     "output_type": "execute_result"
    }
   ],
   "source": [
    "import pandas as pd\n",
    "import numpy as np\n",
    "dataset=pd.read_csv(\"Salary_Data.csv\")\n",
    "y=dataset[\"Salary\"]\n",
    "x=dataset[\"YearsExperience\"].values.reshape(30,1)\n",
    "from sklearn.linear_model import LinearRegression\n",
    "mind=LinearRegression()\n",
    "mind.fit(x,y)\n",
    "print(\"weight: \",mind.coef_)\n",
    "print(\"bias: \",mind.intercept_)\n",
    "import joblib\n",
    "joblib.dump(mind,\"salary_predictor.pk1\")"
   ]
  },
  {
   "cell_type": "code",
   "execution_count": null,
   "id": "ba5d5d28",
   "metadata": {},
   "outputs": [],
   "source": []
  }
 ],
 "metadata": {
  "kernelspec": {
   "display_name": "Python 3",
   "language": "python",
   "name": "python3"
  },
  "language_info": {
   "codemirror_mode": {
    "name": "ipython",
    "version": 3
   },
   "file_extension": ".py",
   "mimetype": "text/x-python",
   "name": "python",
   "nbconvert_exporter": "python",
   "pygments_lexer": "ipython3",
   "version": "3.8.8"
  }
 },
 "nbformat": 4,
 "nbformat_minor": 5
}
